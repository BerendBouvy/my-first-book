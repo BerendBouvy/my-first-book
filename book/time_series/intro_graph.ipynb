{
 "cells": [
  {
   "cell_type": "markdown",
   "metadata": {},
   "source": [
    "### Time Series introduction"
   ]
  },
  {
   "cell_type": "code",
   "execution_count": 3,
   "metadata": {
    "tags": [
     "auto-execute-page",
     "thebe-remove-input-init"
    ]
   },
   "outputs": [],
   "source": [
    "\n",
    "import numpy as np\n",
    "import matplotlib.pyplot as plt\n",
    "import ipywidgets as widgets\n",
    "from ipywidgets import interact, Layout\n",
    "\n",
    "\n",
    "x = np.linspace(0, 10, 500)\n",
    "\n",
    "def gen_seasons(phase=0, frequency=0, amplitude=0):\n",
    "    y = np.cos(frequency*x +phase) * amplitude\n",
    "    return y\n",
    "\n",
    "def gen_offset(offset_loc=0, offset_size=0):\n",
    "    offset = np.zeros_like(x)\n",
    "    for ind, i in enumerate(x):\n",
    "        if i >= offset_loc:\n",
    "            offset[ind] = offset_size\n",
    "    return offset\n",
    "\n",
    "def gen_trend(trend_slope=0):\n",
    "    y = trend_slope * x\n",
    "    return y\n",
    "\n",
    "def gen_noise(std=0):\n",
    "    np.random.seed(int(std*100))\n",
    "    y = np.random.normal(0, std, size=x.shape)\n",
    "    return y\n",
    "\n",
    "def generate_data(trend_slope=0, std=0, phase=0, amplitude=0, frequency=0, offset_loc=5, offset_size=0):\n",
    "    y = gen_trend(trend_slope) + gen_noise(std) + gen_offset(offset_loc, offset_size) + gen_seasons(phase, frequency, amplitude)\n",
    "    return y\n",
    "\n",
    "# Function to plot the data\n",
    "def plot_data(trend_slope=0, phase=0, amplitude=1, frequency=1, offset_location=5, offset_size=0, standard_dev=0):\n",
    "    y = generate_data(trend_slope, standard_dev, phase, amplitude, frequency, offset_location, offset_size)\n",
    "    y_trend = gen_trend(trend_slope)\n",
    "    y_seas = gen_seasons(phase, frequency, amplitude)\n",
    "    y_offs = gen_offset(offset_location, offset_size)\n",
    "    y_noise = gen_noise(standard_dev)\n",
    "\n",
    "    fig, axs = plt.subplots(5, 1, figsize=(16, 9))\n",
    "    # plt.figure(figsize=(10, 6))\n",
    "    axs[0].plot(x, y, label=\"Generated Data\")\n",
    "\n",
    "    axs[0].set_title(\"Data with Optional Trend and Noise\")\n",
    "    axs[0].grid(True)\n",
    "    axs[0].tick_params(axis='x', labelbottom=False)  # Remove x-tick labels\n",
    "\n",
    "    axs[1].plot(x, y_trend, label=\"Trend\")\n",
    "    axs[1].grid(True)\n",
    "    axs[1].legend()\n",
    "    axs[1].tick_params(axis='x', labelbottom=False)  # Remove x-tick labels\n",
    "    axs[1].set_ylim([-20, 20])\n",
    "\n",
    "    # plt.ylabel('Different time series components', loc='bottom')\n",
    "    axs[2].plot(x, y_seas, label=\"Seasonality\")\n",
    "    axs[2].grid(True)\n",
    "    axs[2].legend()\n",
    "    axs[2].tick_params(axis='x', labelbottom=False)  # Remove x-tick labels\n",
    "    axs[2].set_ylim([-5.5, 5.5])\n",
    "\n",
    "    axs[3].plot(x, y_offs, label=\"Offset\")\n",
    "    axs[3].grid(True)\n",
    "    axs[3].legend()\n",
    "    axs[3].tick_params(axis='x', labelbottom=False)  # Remove x-tick labels\n",
    "    axs[3].set_ylim([-5.5, 5.5])\n",
    "\n",
    "    axs[4].plot(x, y_noise, label=\"Noise\")\n",
    "    axs[4].grid(True)\n",
    "    axs[4].legend()\n",
    "    axs[4].set_ylim([-3, 3])\n",
    "\n",
    "    \n",
    "\n",
    "    # plt.tight_layout()\n",
    "    plt.xlabel('Time')\n"
   ]
  },
  {
   "cell_type": "code",
   "execution_count": 5,
   "metadata": {
    "tags": [
     "auto-execute-page",
     "thebe-remove-input-init"
    ]
   },
   "outputs": [
    {
     "data": {
      "application/vnd.jupyter.widget-view+json": {
       "model_id": "f7d2d62da6d048739f4570a07d5910ad",
       "version_major": 2,
       "version_minor": 0
      },
      "text/plain": [
       "interactive(children=(FloatSlider(value=1.0, description='Trend Slope', layout=Layout(width='40%'), max=2.0, m…"
      ]
     },
     "metadata": {},
     "output_type": "display_data"
    }
   ],
   "source": [
    "    \n",
    "# Creating interactive widgets\n",
    "style = {'description_width': 'initial'}\n",
    "interact(plot_data,\n",
    "         trend_slope=widgets.FloatSlider(value=1, min=-2.0, max=2.0, step=0.05, description=\"Trend Slope\", style=style, layout=Layout(width='40%')),\n",
    "         phase=widgets.FloatSlider(value=0, min=0, max=2*np.pi, step=0.05,description=\"phase\", style=style, layout=Layout(width='40%')),\n",
    "         amplitude=widgets.FloatSlider(value=2, min=0, max=5.0, step=0.05,description=\"amplitude\", style=style, layout=Layout(width='40%')),\n",
    "         frequency=widgets.FloatSlider(value=4, min=0, max=10.0, step=0.05,description=\"frequency\", style=style, layout=Layout(width='40%')),\n",
    "         offset_location=widgets.FloatSlider(value=5, min=0, max=10, step=0.1, description=\"offset location\", style=style, layout=Layout(width='40%')),\n",
    "         offset_size=widgets.FloatSlider(value=5, min=-10, max=10, step=0.1, description=\"offset size\", style=style, layout=Layout(width='40%')),\n",
    "         standard_dev=widgets.FloatSlider(value=0.5, min=0, max=2, step=0.005,description=\"Standard deviation\", style=style, layout=Layout(width='40%')));\n",
    "        "
   ]
  }
 ],
 "metadata": {
  "kernelspec": {
   "display_name": "TAMude",
   "language": "python",
   "name": "python3"
  },
  "language_info": {
   "codemirror_mode": {
    "name": "ipython",
    "version": 3
   },
   "file_extension": ".py",
   "mimetype": "text/x-python",
   "name": "python",
   "nbconvert_exporter": "python",
   "pygments_lexer": "ipython3",
   "version": "3.12.5"
  }
 },
 "nbformat": 4,
 "nbformat_minor": 2
}
