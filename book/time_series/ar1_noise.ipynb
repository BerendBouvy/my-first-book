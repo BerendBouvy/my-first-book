{
 "cells": [
  {
   "cell_type": "code",
   "execution_count": null,
   "metadata": {
    "tags": [
     "auto-execute-page",
     "thebe-remove-input-init"
    ]
   },
   "outputs": [
    {
     "data": {
      "application/vnd.jupyter.widget-view+json": {
       "model_id": "f84d8018931a404c9523689875ebc0dd",
       "version_major": 2,
       "version_minor": 0
      },
      "text/plain": [
       "interactive(children=(FloatSlider(value=0.8, description='Phi:', max=1.0, min=-1.0), Output()), _dom_classes=(…"
      ]
     },
     "metadata": {},
     "output_type": "display_data"
    }
   ],
   "source": [
    "import numpy as np\n",
    "import matplotlib.pyplot as plt\n",
    "from statsmodels.graphics.tsaplots import plot_acf\n",
    "import ipywidgets as widgets\n",
    "from ipywidgets import interact\n",
    "%matplotlib widget\n",
    "%matplotlib inline\n",
    "\n",
    "def acfplot(phi=0.8):\n",
    "    # Parameters for the AR(1) process\n",
    "\n",
    "    sigma = 1          # Standard deviation of the noise\n",
    "    n = 500            # Length of the time series\n",
    "\n",
    "    # Initialize the process\n",
    "    np.random.seed(42)  # For reproducibility\n",
    "    X = np.zeros(n)\n",
    "    X[0] = np.random.normal(0, sigma)  # Initial value\n",
    "\n",
    "    # Generate the AR(1) process and noise series\n",
    "    noise = np.random.normal(0, sigma, n)  # Pre-generate noise for the second plot\n",
    "    for t in range(1, n):\n",
    "        X[t] = phi * X[t-1] + noise[t]  # Use pre-generated noise\n",
    "\n",
    "    # Create the 2x1 subplot\n",
    "    fig, (ax1, ax2) = plt.subplots(2, 1, figsize=(10, 8), sharex=False)\n",
    "\n",
    "    # Plot the AR(1) process in the first subplot\n",
    "    ax1.plot(X, label=f\"AR(1) Process with φ={phi}\")\n",
    "    ax1.set_ylabel(\"Value\")\n",
    "    ax1.set_title(\"Simulated AR(1) Process\")\n",
    "    ax1.legend()\n",
    "    ax1.grid(True)\n",
    "\n",
    "    # Plot the white noise in the second subplot\n",
    "    lags = 20\n",
    "    plot_acf(X, ax=ax2, lags=lags, title=\"ACF of White Noise\")\n",
    "    ax2.set_xlabel(\"Time\")\n",
    "    ax2.set_ylabel(\"ACF Value\")\n",
    "    ax2.set_title(\"ACF of AR(1) Process\")\n",
    "    ax2.set_xlim(-0.5, lags)\n",
    "    ax2.grid(True)\n",
    "\n",
    "    # Display the plot\n",
    "    plt.tight_layout()\n",
    "    plt.show()\n",
    "\n",
    "\n",
    "interact(acfplot, phi=widgets.FloatSlider(value=0.8, min=-1, max=1.0, step=0.1, description='Phi:'));"
   ]
  }
 ],
 "metadata": {
  "kernelspec": {
   "display_name": "TAMude",
   "language": "python",
   "name": "python3"
  },
  "language_info": {
   "codemirror_mode": {
    "name": "ipython",
    "version": 3
   },
   "file_extension": ".py",
   "mimetype": "text/x-python",
   "name": "python",
   "nbconvert_exporter": "python",
   "pygments_lexer": "ipython3",
   "version": "3.12.5"
  }
 },
 "nbformat": 4,
 "nbformat_minor": 2
}
