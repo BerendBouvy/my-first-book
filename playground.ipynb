{
 "cells": [
  {
   "cell_type": "code",
   "execution_count": null,
   "metadata": {},
   "outputs": [
    {
     "data": {
      "application/vnd.jupyter.widget-view+json": {
       "model_id": "843b4fc666e945c5852651af9c1c023a",
       "version_major": 2,
       "version_minor": 0
      },
      "text/plain": [
       "interactive(children=(FloatSlider(value=1.0, description='Trend Slope', max=1.0, min=-1.0, step=0.05), FloatSl…"
      ]
     },
     "metadata": {},
     "output_type": "display_data"
    },
    {
     "data": {
      "text/plain": [
       "<function __main__.plot_data(trend_slope=0, standard_dev=0, phase=0, amplitude=1, frequency=1, offset_loc=5, offset_size=0)>"
      ]
     },
     "metadata": {},
     "output_type": "display_data"
    }
   ],
   "source": [
    "import numpy as np\n",
    "import matplotlib.pyplot as plt\n",
    "import ipywidgets as widgets\n",
    "from ipywidgets import interact\n",
    "\n",
    "# Function to generate data\n",
    "def generate_data(trend_slope=0, std=0, phase=0, amplitude=0, frequency=0, offset_loc=5, offset_size=0):\n",
    "    x = np.linspace(0, 10, 100)\n",
    "    y = np.zeros_like(x)\n",
    "    \n",
    "    # Apply trend based on the slider's value\n",
    "    y += trend_slope * x\n",
    "    y += np.cos(frequency*x +phase) * amplitude\n",
    "\n",
    "    offset = np.zeros_like(x)\n",
    "    for ind, i in enumerate(x):\n",
    "        if i >= offset_loc:\n",
    "            offset[ind] = offset_size\n",
    "    y += offset\n",
    "    np.random.seed(int(std*100))\n",
    "    noise = np.random.normal(0, std, size=x.shape)  # Adding Gaussian noise\n",
    "    y += noise\n",
    "\n",
    "    return x, y, offset, noise\n",
    "\n",
    "# Function to plot the data\n",
    "def plot_data(trend_slope=0, standard_dev=0, phase=0, amplitude=1, frequency=1, offset_loc=5, offset_size=0):\n",
    "    x, y, offset, noise = generate_data(trend_slope, standard_dev, phase, amplitude, frequency, offset_loc, offset_size)\n",
    "    \n",
    "    plt.figure(figsize=(10, 6))\n",
    "    plt.plot(x, y, label=\"Generated Data\")\n",
    "    \n",
    "    # Plotting the trend line for visualization\n",
    "    if trend_slope != 0:\n",
    "        plt.plot(x, trend_slope * x, 'r--', label=f\"Trend Line (Slope = {trend_slope})\")\n",
    "\n",
    "    if amplitude != 0 and frequency !=0:\n",
    "        plt.plot(x, np.cos(frequency*x +phase) * amplitude, 'g--', label=f\"Seasonality\")\n",
    "    \n",
    "    if offset_size != 0:\n",
    "        plt.plot(x, offset, '--', label=f\"offset\")\n",
    "\n",
    "    if standard_dev != 0:\n",
    "        plt.plot(x, noise, 'k--', label=f\"Noise (std = {standard_dev})\")\n",
    "\n",
    "    plt.title(\"Data with Optional Trend and Noise\")\n",
    "    plt.xlabel(\"Time\")\n",
    "    plt.ylabel(\"Y-axis\")\n",
    "    plt.legend()\n",
    "    plt.grid()\n",
    "    plt.show()\n",
    "\n",
    "# Creating interactive widgets\n",
    "interact(plot_data,\n",
    "         trend_slope=widgets.FloatSlider(value=1, min=-1.0, max=1.0, step=0.05, description=\"Trend Slope\"),\n",
    "         standard_dev=widgets.FloatSlider(value=1, min=0, max=2, step=0.005,description=\"St. dev.\"),\n",
    "         phase=widgets.FloatSlider(value=0, min=0, max=2*np.pi, step=0.05,description=\"phase\"),\n",
    "         amplitude=widgets.FloatSlider(value=1, min=0, max=5.0, step=0.05,description=\"amplitude\"),\n",
    "         frequency=widgets.FloatSlider(value=1, min=0, max=5.0, step=0.05,description=\"frequency\"),\n",
    "         offset_location=widgets.FloatSlider(value=5, min=0, max=10, step=0.1, description=\"offset location\"),\n",
    "         offset_size=widgets.FloatSlider(value=0, min=-5, max=5, step=0.1, description=\"offset size\"))"
   ]
  }
 ],
 "metadata": {
  "language_info": {
   "name": "python"
  }
 },
 "nbformat": 4,
 "nbformat_minor": 2
}
